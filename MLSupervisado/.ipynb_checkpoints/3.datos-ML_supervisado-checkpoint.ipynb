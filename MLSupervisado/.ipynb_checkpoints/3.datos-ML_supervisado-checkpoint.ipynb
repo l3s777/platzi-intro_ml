{
 "cells": [
  {
   "cell_type": "markdown",
   "metadata": {},
   "source": [
    "<h1> PROYECTO DE MACHINE LEARNING SUPERVISADO </h1>\n",
    "\n",
    "\n",
    "<h3>Clasificando dígitos escritos a mano</h3>"
   ]
  },
  {
   "cell_type": "markdown",
   "metadata": {},
   "source": [
    "El grupo de datos se los obtiene de: http://yann.lecun.com/exdb/mnist/.\n",
    "\n",
    "MNIST - Modified National Institute of Standards and Technology\n",
    "\n",
    "The MNIST database of handwritten digits, available from this page, has a training set of 60,000 examples, and a test set of 10,000 examples. It is a subset of a larger set available from NIST. The digits have been size-normalized and centered in a fixed-size image.\n",
    "\n",
    "\n",
    "<ul> train-images-idx3-ubyte.gz:  training set images </ul>\n",
    "<ul> train-labels-idx1-ubyte.gz:  training set labels </ul>\n",
    "<ul> t10k-images-idx3-ubyte.gz:   test set images </ul>\n",
    "<ul> t10k-labels-idx1-ubyte.gz:   test set labels </ul>\n",
    "\n",
    "\n",
    "\n",
    "\n",
    "\n",
    "Los datos en formato .gz descomprimirlos dentro de un folder **MNIST_data**\n",
    "\n",
    "$ gzip *ubyte.gz -d\n",
    "\n",
    "\n",
    "En nuestro consola de trabajo instalamos el paquete mnist que viene con python:\n",
    "\n",
    "**$ pip install python-mnist**\n",
    "\n",
    "\n",
    "Una reserva de esta info, podemos encontrar estos set de datos en formato .csv en kaggle: https://www.kaggle.com/c/digit-recognizer/data \n"
   ]
  },
  {
   "cell_type": "code",
   "execution_count": null,
   "metadata": {},
   "outputs": [],
   "source": [
    "# DATOS\n",
    "\n",
    "# importar from mnist\n",
    "\n",
    "#importar el dataset en mndata\n"
   ]
  },
  {
   "cell_type": "code",
   "execution_count": null,
   "metadata": {},
   "outputs": [],
   "source": [
    "# DATOS de entrenamiento \n",
    "# (features -> datos y labels -> etiquetas)\n"
   ]
  },
  {
   "cell_type": "code",
   "execution_count": null,
   "metadata": {},
   "outputs": [],
   "source": [
    "# VISUALIZACION \n",
    "\n",
    "# librerías matplotlib\n"
   ]
  },
  {
   "cell_type": "code",
   "execution_count": null,
   "metadata": {},
   "outputs": [],
   "source": [
    "# Trabajo con ARRAYs\n",
    "\n",
    "# import NUMPY\n"
   ]
  },
  {
   "cell_type": "code",
   "execution_count": null,
   "metadata": {},
   "outputs": [],
   "source": [
    "# matplotlib escala de grises\n"
   ]
  },
  {
   "cell_type": "code",
   "execution_count": null,
   "metadata": {},
   "outputs": [],
   "source": [
    "# sk-learn para dividir todo el set de entrenamiento en: entrenamiento y validación\n",
    "# https://scikit-learn.org/stable/modules/generated/sklearn.model_selection.train_test_split.html\n"
   ]
  },
  {
   "cell_type": "code",
   "execution_count": null,
   "metadata": {},
   "outputs": [],
   "source": [
    "# DATOS \n",
    "# todos los datos de training... deben ser divididos\n",
    "\n",
    "#  -Datos de Entremamiento 70%  (features, labels)\n",
    "#  -Datos de Testing  30%   (features y labels)\n",
    "\n",
    "# sklearn.model_selection.train_test_split(*arrays, **options)\n",
    "\n",
    "# train_data, test_data, train_labels, test_labels"
   ]
  },
  {
   "cell_type": "markdown",
   "metadata": {},
   "source": [
    "<h3>Modelos y Entrenamiento</h3>"
   ]
  },
  {
   "cell_type": "markdown",
   "metadata": {},
   "source": [
    "Los datos estan listo para ser entrenados en nuestro clasificador.\n",
    "\n",
    "Vamos a seleccionar entre las diferentes opciones de Machine Learning supervisado:\n",
    "\n",
    "* Arbol de decisiones \"Decision Tree\"\n",
    "* Random Forest"
   ]
  },
  {
   "cell_type": "markdown",
   "metadata": {},
   "source": [
    "<h3> Evaluación </h3>"
   ]
  },
  {
   "cell_type": "markdown",
   "metadata": {},
   "source": [
    "Utilizando la SKLEARN \n",
    "Matriz de Confusión\n",
    "\n",
    "https://scikit-learn.org/stable/auto_examples/model_selection/plot_confusion_matrix.html#sphx-glr-auto-examples-model-selection-plot-confusion-matrix-py"
   ]
  }
 ],
 "metadata": {
  "kernelspec": {
   "display_name": "Python 2",
   "language": "python",
   "name": "python2"
  },
  "language_info": {
   "codemirror_mode": {
    "name": "ipython",
    "version": 2
   },
   "file_extension": ".py",
   "mimetype": "text/x-python",
   "name": "python",
   "nbconvert_exporter": "python",
   "pygments_lexer": "ipython2",
   "version": "2.7.15"
  }
 },
 "nbformat": 4,
 "nbformat_minor": 2
}
