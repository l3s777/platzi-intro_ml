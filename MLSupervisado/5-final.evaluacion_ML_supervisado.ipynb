{
 "cells": [
  {
   "cell_type": "markdown",
   "metadata": {},
   "source": [
    "<h1> PROYECTO DE MACHINE LEARNING SUPERVISADO </h1>\n",
    "\n",
    "\n",
    "<h3>Clasificando dígitos escritos a mano</h3>"
   ]
  },
  {
   "cell_type": "markdown",
   "metadata": {},
   "source": [
    "El grupo de datos se los obtiene de: http://yann.lecun.com/exdb/mnist/.\n",
    "\n",
    "MNIST - Modified National Institute of Standards and Technology\n",
    "\n",
    "The MNIST database of handwritten digits, available from this page, has a training set of 60,000 examples, and a test set of 10,000 examples. It is a subset of a larger set available from NIST. The digits have been size-normalized and centered in a fixed-size image.\n",
    "\n",
    "\n",
    "<ul> train-images-idx3-ubyte.gz:  training set images </ul>\n",
    "<ul> train-labels-idx1-ubyte.gz:  training set labels </ul>\n",
    "<ul> t10k-images-idx3-ubyte.gz:   test set images </ul>\n",
    "<ul> t10k-labels-idx1-ubyte.gz:   test set labels </ul>\n",
    "\n",
    "\n",
    "\n",
    "\n",
    "\n",
    "Los datos en formato .gz descomprimirlos dentro de un folder **MNIST_data**\n",
    "\n",
    "$ gzip *ubyte.gz -d\n",
    "\n",
    "\n",
    "En nuestro consola de trabajo instalamos el paquete mnist que viene con python:\n",
    "\n",
    "**$ pip install python-mnist**\n",
    "\n",
    "\n",
    "Una reserva de esta info, podemos encontrar estos set de datos en formato .csv en kaggle: https://www.kaggle.com/c/digit-recognizer/data \n"
   ]
  },
  {
   "cell_type": "code",
   "execution_count": 1,
   "metadata": {},
   "outputs": [],
   "source": [
    "# DATOS\n",
    "\n",
    "# importar\n",
    "from mnist import MNIST\n",
    "\n",
    "\n",
    "#importar el dataset\n",
    "mndata = MNIST('MNIST_data')"
   ]
  },
  {
   "cell_type": "code",
   "execution_count": 2,
   "metadata": {},
   "outputs": [],
   "source": [
    "# DATOS de entrenamiento (features -> images y labels -> labels)\n",
    "# (features -> datos y labels -> etiquetas)\n",
    "datos, labels = mndata.load_training()"
   ]
  },
  {
   "cell_type": "code",
   "execution_count": 3,
   "metadata": {},
   "outputs": [],
   "source": [
    "# VISUALIZACION \n",
    "\n",
    "# librerías\n",
    "%matplotlib inline\n",
    "from matplotlib import pyplot as plt"
   ]
  },
  {
   "cell_type": "code",
   "execution_count": 4,
   "metadata": {},
   "outputs": [],
   "source": [
    "# Trabajo con ARRAYs\n",
    "\n",
    "# import NUMPY\n",
    "import numpy as np"
   ]
  },
  {
   "cell_type": "code",
   "execution_count": 5,
   "metadata": {},
   "outputs": [
    {
     "data": {
      "image/png": "[encoded data removed]",
      "text/plain": [
       "<Figure size 432x288 with 25 Axes>"
      ]
     },
     "metadata": {
      "needs_background": "light"
     },
     "output_type": "display_data"
    }
   ],
   "source": [
    "# matplotlib escala de grises\n",
    "plt.gray()\n",
    "\n",
    "\n",
    "for i in range(25):\n",
    "    plt.subplot(5,5,i+1)\n",
    "    \n",
    "    d_image = datos[i]\n",
    "    d_image = np.array(d_image, dtype='float')\n",
    "    \n",
    "    pixels = d_image.reshape((28, 28))\n",
    "    \n",
    "    plt.imshow(pixels, cmap='gray')\n",
    "    plt.title(labels[i])\n",
    "    plt.axis('off')\n",
    "plt.show()"
   ]
  },
  {
   "cell_type": "code",
   "execution_count": 6,
   "metadata": {},
   "outputs": [],
   "source": [
    "# sk-learn para dividir todo el set de entrenamiento en: entrenamiento y validación\n",
    "# https://scikit-learn.org/stable/modules/generated/sklearn.model_selection.train_test_split.html\n",
    "\n",
    "from sklearn.model_selection import train_test_split"
   ]
  },
  {
   "cell_type": "code",
   "execution_count": 7,
   "metadata": {},
   "outputs": [],
   "source": [
    "# DATOS \n",
    "# todos los datos de training... deben ser divididos\n",
    "\n",
    "#  -Datos de Entremamiento 70%  (features, labels)\n",
    "#  -Datos de Testing  30%   (features y labels)\n",
    "\n",
    "# sklearn.model_selection.train_test_split(*arrays, **options)\n",
    "\n",
    "# train_data, test_data, train_labels, test_labels\n",
    "train_data, test_data, train_labels, test_labels = train_test_split(datos, labels, test_size=0.3, random_state=42)"
   ]
  },
  {
   "cell_type": "markdown",
   "metadata": {},
   "source": [
    "<h3>Modelos y Entrenamiento</h3>"
   ]
  },
  {
   "cell_type": "code",
   "execution_count": 8,
   "metadata": {},
   "outputs": [],
   "source": [
    "# SKLEARN\n",
    "# que es como se usa\n",
    "\n",
    "# https://scikit-learn.org/stable/modules/generated/sklearn.model_selection.train_test_split.html\n",
    "\n",
    "from sklearn.model_selection import train_test_split"
   ]
  },
  {
   "cell_type": "markdown",
   "metadata": {},
   "source": [
    "Los datos estan listo para ser entrenados en nuestro clasificador.\n",
    "\n",
    "Vamos a seleccionar entre las diferentes opciones de Machine Learning supervisado:\n",
    "\n",
    "* Arbol de decisiones \"Decision Tree\"\n",
    "* Random Forest"
   ]
  },
  {
   "cell_type": "code",
   "execution_count": 9,
   "metadata": {},
   "outputs": [],
   "source": [
    "# SKLEARN\n",
    "# modelos de ML\n",
    "\n",
    "\n",
    "# decision tree\n",
    "from sklearn.tree import DecisionTreeClassifier"
   ]
  },
  {
   "cell_type": "markdown",
   "metadata": {},
   "source": [
    "class sklearn.tree.DecisionTreeClassifier(criterion=’gini’, splitter=’best’, max_depth=None, min_samples_split=2, min_samples_leaf=1, min_weight_fraction_leaf=0.0, max_features=None, random_state=None, max_leaf_nodes=None, min_impurity_decrease=0.0, min_impurity_split=None, class_weight=None, presort=False)[source]\n",
    "\n",
    "https://scikit-learn.org/stable/modules/generated/sklearn.tree.DecisionTreeClassifier.html"
   ]
  },
  {
   "cell_type": "code",
   "execution_count": 10,
   "metadata": {},
   "outputs": [],
   "source": [
    "# creamos el clasificador\n",
    "\n",
    "clf_dt = DecisionTreeClassifier()"
   ]
  },
  {
   "cell_type": "code",
   "execution_count": 11,
   "metadata": {},
   "outputs": [
    {
     "data": {
      "text/plain": [
       "DecisionTreeClassifier(class_weight=None, criterion='gini', max_depth=None,\n",
       "            max_features=None, max_leaf_nodes=None,\n",
       "            min_impurity_decrease=0.0, min_impurity_split=None,\n",
       "            min_samples_leaf=1, min_samples_split=2,\n",
       "            min_weight_fraction_leaf=0.0, presort=False, random_state=None,\n",
       "            splitter='best')"
      ]
     },
     "execution_count": 11,
     "metadata": {},
     "output_type": "execute_result"
    }
   ],
   "source": [
    "# entrenar (fit)\n",
    "\n",
    "clf_dt.fit(train_data, train_labels)"
   ]
  },
  {
   "cell_type": "markdown",
   "metadata": {},
   "source": [
    "<h3> Evaluación </h3>"
   ]
  },
  {
   "cell_type": "markdown",
   "metadata": {},
   "source": [
    "Utilizando la SKLEARN \n",
    "Matriz de Confusión\n",
    "\n",
    "https://scikit-learn.org/stable/auto_examples/model_selection/plot_confusion_matrix.html#sphx-glr-auto-examples-model-selection-plot-confusion-matrix-py"
   ]
  },
  {
   "cell_type": "code",
   "execution_count": 12,
   "metadata": {},
   "outputs": [],
   "source": [
    "# importar librería para las metricas de evaluación\n",
    "from sklearn.metrics import confusion_matrix"
   ]
  },
  {
   "cell_type": "code",
   "execution_count": 13,
   "metadata": {},
   "outputs": [],
   "source": [
    "# definimos una funcion para evaluar el clasificador\n",
    "def evaluate_classifier(clf, test_data, test_labels):\n",
    "    pred = clf.predict(test_data)\n",
    "    \n",
    "    MC = confusion_matrix(test_labels, pred)\n",
    "    return MC"
   ]
  },
  {
   "cell_type": "code",
   "execution_count": 14,
   "metadata": {},
   "outputs": [],
   "source": [
    "# vamos a evaluar nuestro clasificador con todo el \"training\" y \"testing\" set\n",
    "\n",
    "# evaluar clasificador: ARBOL DE DECISIONES, datos de evaluación: test_data, test_labels\n",
    "MC = evaluate_classifier(clf_dt, test_data, test_labels)"
   ]
  },
  {
   "cell_type": "code",
   "execution_count": 15,
   "metadata": {},
   "outputs": [
    {
     "name": "stdout",
     "output_type": "stream",
     "text": [
      "[[1627    1   37   21   14   33   32   10   24    6]\n",
      " [   1 1909   21   13    4    7    8    9   15    7]\n",
      " [  15   27 1462   62   24   30   33   38   49   19]\n",
      " [  15   15   62 1507   14   77    9   32   72   43]\n",
      " [   8    4   25   14 1500   18   18   27   20   92]\n",
      " [  26   17   21   69   23 1326   43   10   70   48]\n",
      " [  23    4   26   11   38   34 1600    3   35   13]\n",
      " [  10   14   48   20   21   19    4 1745   14   42]\n",
      " [  21   26   63   70   41   52   41   13 1336   67]\n",
      " [  13    8   18   35   81   44    9   59   56 1440]]\n"
     ]
    }
   ],
   "source": [
    "# imprimir la matriz de confusión\n",
    "print(MC)"
   ]
  },
  {
   "cell_type": "code",
   "execution_count": 16,
   "metadata": {},
   "outputs": [],
   "source": [
    "# calcular el puntaje con los valores de la matriz de confusión\n",
    "score = MC.diagonal().sum()*100./MC.sum()"
   ]
  },
  {
   "cell_type": "code",
   "execution_count": 17,
   "metadata": {},
   "outputs": [
    {
     "name": "stdout",
     "output_type": "stream",
     "text": [
      "85.84444444444445\n"
     ]
    }
   ],
   "source": [
    "# imprimir valor del puntaje (score)\n",
    "print(score)"
   ]
  },
  {
   "cell_type": "markdown",
   "metadata": {},
   "source": [
    "<h3>Otros modelos</h3>"
   ]
  },
  {
   "cell_type": "code",
   "execution_count": 18,
   "metadata": {},
   "outputs": [
    {
     "name": "stderr",
     "output_type": "stream",
     "text": [
      "/anaconda2/lib/python2.7/site-packages/sklearn/ensemble/weight_boosting.py:29: DeprecationWarning: numpy.core.umath_tests is an internal NumPy module and should not be imported. It will be removed in a future NumPy release.\n",
      "  from numpy.core.umath_tests import inner1d\n"
     ]
    }
   ],
   "source": [
    "# SKLEARN\n",
    "# modelos de ML\n",
    "\n",
    "# importar RandomForest de sk-learn\n",
    "from sklearn.ensemble import RandomForestClassifier"
   ]
  },
  {
   "cell_type": "code",
   "execution_count": 19,
   "metadata": {},
   "outputs": [],
   "source": [
    "# RandomForest\n",
    "\n",
    "# n_estimators numero de árboles que queremos en la red\n",
    "# min_samples_split número mínimo de filas que utilizaremos\n",
    "# min_samples_leaf número mínimo de samples que tenemos al final del árbol\n",
    "\n",
    "# clf_rd = RandomForestClassifier(n_estimators=<numero de arboles>)\n",
    "# estimamos con 150 árboles\n",
    "clf_rd = RandomForestClassifier(n_estimators=150, min_samples_split=2)"
   ]
  },
  {
   "cell_type": "code",
   "execution_count": 20,
   "metadata": {},
   "outputs": [
    {
     "data": {
      "text/plain": [
       "RandomForestClassifier(bootstrap=True, class_weight=None, criterion='gini',\n",
       "            max_depth=None, max_features='auto', max_leaf_nodes=None,\n",
       "            min_impurity_decrease=0.0, min_impurity_split=None,\n",
       "            min_samples_leaf=1, min_samples_split=2,\n",
       "            min_weight_fraction_leaf=0.0, n_estimators=150, n_jobs=1,\n",
       "            oob_score=False, random_state=None, verbose=0,\n",
       "            warm_start=False)"
      ]
     },
     "execution_count": 20,
     "metadata": {},
     "output_type": "execute_result"
    }
   ],
   "source": [
    "# entrenar (fit)\n",
    "clf_rd.fit(train_data, train_labels)"
   ]
  },
  {
   "cell_type": "code",
   "execution_count": 21,
   "metadata": {},
   "outputs": [],
   "source": [
    "# vamos a evaluar nuestro clasificador con todo el \"training\" y \"testing\" set\n",
    "\n",
    "# evaluar RANDOM FOREST con el metodo de evaluador clasificador\n",
    "MC = evaluate_classifier(clf_rd, test_data, test_labels)"
   ]
  },
  {
   "cell_type": "code",
   "execution_count": 22,
   "metadata": {},
   "outputs": [
    {
     "name": "stdout",
     "output_type": "stream",
     "text": [
      "[[1776    0    2    2    3    5    7    0    9    1]\n",
      " [   0 1964   15    4    4    0    2    4    1    0]\n",
      " [   3    7 1716    4    5    0    3   14    6    1]\n",
      " [   4    1   29 1741    1   21    3   15   20   11]\n",
      " [   3    1    1    0 1676    1    6    2    3   33]\n",
      " [   8    2    2   18    3 1590   11    1   14    4]\n",
      " [   5    1    3    0    3    9 1761    0    5    0]\n",
      " [   2   12   27    1    7    0    0 1866    3   19]\n",
      " [   1    8   14   18   16   10    8    1 1645    9]\n",
      " [   8    3    5   17   21    5    2   12    8 1682]]\n"
     ]
    }
   ],
   "source": [
    "# imprimir valor de la matriz de confusión\n",
    "print(MC)"
   ]
  },
  {
   "cell_type": "code",
   "execution_count": 23,
   "metadata": {},
   "outputs": [],
   "source": [
    "# calcular el puntaje (score)\n",
    "score = MC.diagonal().sum()*100./MC.sum()"
   ]
  },
  {
   "cell_type": "code",
   "execution_count": 24,
   "metadata": {},
   "outputs": [
    {
     "name": "stdout",
     "output_type": "stream",
     "text": [
      "96.7611111111111\n"
     ]
    }
   ],
   "source": [
    "# imprimir el puntaje (score)\n",
    "print(score)"
   ]
  },
  {
   "cell_type": "markdown",
   "metadata": {},
   "source": [
    "<h3>DATOS FINALES DE PRUEBA</h3>"
   ]
  },
  {
   "cell_type": "code",
   "execution_count": 25,
   "metadata": {},
   "outputs": [],
   "source": [
    "# vamos a probar los datos de prueba\n",
    "\n",
    "# Cargamos los datos de evaluacion\n",
    "eval_data, eval_labels = mndata.load_testing()"
   ]
  },
  {
   "cell_type": "code",
   "execution_count": 26,
   "metadata": {},
   "outputs": [],
   "source": [
    "# Aplicamos el clasificador a todo el dataset de Evaluacion y obtenemos el Accuracy\n",
    "\n",
    "predicted_data = clf_rd.predict(eval_data)"
   ]
  },
  {
   "cell_type": "code",
   "execution_count": 28,
   "metadata": {},
   "outputs": [],
   "source": [
    "# vamos a evaluar nuestro clasificador con todo el \"training\" y \"testing\" set\n",
    "\n",
    "# evaluar RANDOM FOREST con el metodo de evaluador clasificador\n",
    "MC_clf_rd = evaluate_classifier(clf_rd, eval_data, np.array(eval_labels))"
   ]
  },
  {
   "cell_type": "code",
   "execution_count": 29,
   "metadata": {},
   "outputs": [
    {
     "name": "stdout",
     "output_type": "stream",
     "text": [
      "[[ 969    0    0    0    0    2    4    1    4    0]\n",
      " [   0 1123    2    4    0    1    3    0    1    1]\n",
      " [   6    0  999    6    3    0    4    8    6    0]\n",
      " [   0    0   10  970    0    8    0    9    9    4]\n",
      " [   1    0    1    0  953    0    5    1    3   18]\n",
      " [   3    0    0   13    3  857    5    2    6    3]\n",
      " [   7    3    0    0    3    3  940    0    2    0]\n",
      " [   1    5   18    1    0    0    0  990    1   12]\n",
      " [   4    0    4    8    6    7    4    5  925   11]\n",
      " [   6    6    2   11   11    1    1    4    6  961]]\n"
     ]
    }
   ],
   "source": [
    "# imprimir valor de la matriz de confusión\n",
    "print(MC_clf_rd)"
   ]
  },
  {
   "cell_type": "code",
   "execution_count": 30,
   "metadata": {},
   "outputs": [],
   "source": [
    "# calcular el puntaje (score)\n",
    "score_clf_rd = MC_clf_rd.diagonal().sum()*100./MC_clf_rd.sum()"
   ]
  },
  {
   "cell_type": "code",
   "execution_count": 31,
   "metadata": {},
   "outputs": [
    {
     "name": "stdout",
     "output_type": "stream",
     "text": [
      "96.87\n"
     ]
    }
   ],
   "source": [
    "# imprimir el puntaje (score)\n",
    "print(score_clf_rd)"
   ]
  },
  {
   "cell_type": "code",
   "execution_count": null,
   "metadata": {},
   "outputs": [],
   "source": []
  }
 ],
 "metadata": {
  "kernelspec": {
   "display_name": "Python 2",
   "language": "python",
   "name": "python2"
  },
  "language_info": {
   "codemirror_mode": {
    "name": "ipython",
    "version": 2
   },
   "file_extension": ".py",
   "mimetype": "text/x-python",
   "name": "python",
   "nbconvert_exporter": "python",
   "pygments_lexer": "ipython2",
   "version": "2.7.15"
  }
 },
 "nbformat": 4,
 "nbformat_minor": 2
}
